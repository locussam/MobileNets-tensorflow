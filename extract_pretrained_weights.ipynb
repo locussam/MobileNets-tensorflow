{
 "cells": [
  {
   "cell_type": "code",
   "execution_count": 1,
   "metadata": {
    "collapsed": true
   },
   "outputs": [],
   "source": [
    "%load_ext autoreload\n",
    "%autoreload 2"
   ]
  },
  {
   "cell_type": "code",
   "execution_count": 2,
   "metadata": {
    "collapsed": true
   },
   "outputs": [],
   "source": [
    "import numpy as np\n",
    "import tensorflow as tf\n",
    "\n",
    "from nn_parts import _mapping\n",
    "\n",
    "import matplotlib.pyplot as plt\n",
    "%matplotlib inline"
   ]
  },
  {
   "cell_type": "markdown",
   "metadata": {},
   "source": [
    "# Summary"
   ]
  },
  {
   "cell_type": "markdown",
   "metadata": {},
   "source": [
    "In this notebook I extract pretrained MobileNet weights from the Tensorflow checkpoint downloaded here:\n",
    "https://github.com/tensorflow/models/blob/master/slim/nets/mobilenet_v1.md"
   ]
  },
  {
   "cell_type": "markdown",
   "metadata": {},
   "source": [
    "# Graph"
   ]
  },
  {
   "cell_type": "code",
   "execution_count": 3,
   "metadata": {
    "collapsed": true
   },
   "outputs": [],
   "source": [
    "tf.reset_default_graph()\n",
    "optimizer = tf.train.RMSPropOptimizer(1e-3)\n",
    "num_classes = 1001\n",
    "\n",
    "X = tf.placeholder(tf.float32, [None, 224, 224, 3], 'X')\n",
    "Y = tf.placeholder(tf.float32, [None, num_classes], 'Y')\n",
    "\n",
    "with tf.variable_scope('control'):\n",
    "    is_training = tf.placeholder_with_default(True, [], 'is_training')\n",
    "\n",
    "with tf.variable_scope('MobilenetV1'):\n",
    "    logits = _mapping(X, num_classes, is_training)\n",
    "\n",
    "with tf.variable_scope('log_loss'):\n",
    "    log_loss = tf.losses.softmax_cross_entropy(Y, logits)\n",
    "\n",
    "with tf.variable_scope('total_loss'):\n",
    "    total_loss = tf.losses.get_total_loss()\n",
    "\n",
    "ema = tf.train.ExponentialMovingAverage(decay=0.99)\n",
    "maintain_averages_op = ema.apply(\n",
    "    tf.get_collection(tf.GraphKeys.TRAINABLE_VARIABLES)\n",
    ")\n",
    "\n",
    "update_ops = tf.get_collection(tf.GraphKeys.UPDATE_OPS)\n",
    "with tf.control_dependencies(update_ops):\n",
    "    optimize_op = optimizer.minimize(total_loss)\n",
    "\n",
    "with tf.control_dependencies([optimize_op]):\n",
    "    optimize = tf.group(maintain_averages_op)\n",
    "\n",
    "with tf.variable_scope('utilities'):\n",
    "    init = tf.global_variables_initializer()\n",
    "    saver = tf.train.Saver()"
   ]
  },
  {
   "cell_type": "markdown",
   "metadata": {},
   "source": [
    "# Session"
   ]
  },
  {
   "cell_type": "code",
   "execution_count": 4,
   "metadata": {
    "collapsed": true
   },
   "outputs": [],
   "source": [
    "gv = tf.get_collection(tf.GraphKeys.GLOBAL_VARIABLES)\n",
    "weights = [\n",
    "    v for v in gv \n",
    "    if ('ExponentialMovingAverage' in v.name) or ('moving_' in v.name)\n",
    "]\n",
    "extracted_weights = {}"
   ]
  },
  {
   "cell_type": "code",
   "execution_count": 5,
   "metadata": {},
   "outputs": [
    {
     "name": "stdout",
     "output_type": "stream",
     "text": [
      "INFO:tensorflow:Restoring parameters from pretrained_model/mobilenet_v1_1.0_224.ckpt\n"
     ]
    }
   ],
   "source": [
    "sess = tf.Session()\n",
    "saver.restore(sess, 'pretrained_model/mobilenet_v1_1.0_224.ckpt')\n",
    "for tensor in weights:\n",
    "    tensor_value = sess.run(tensor)\n",
    "    \n",
    "    if 'ExponentialMovingAverage' in tensor.name:   \n",
    "        name = tensor.name[:-27] + ':0'\n",
    "    elif 'moving_' in tensor.name:\n",
    "        name = tensor.name\n",
    "    \n",
    "    extracted_weights[name] = tensor_value\n",
    "\n",
    "sess.close()"
   ]
  },
  {
   "cell_type": "code",
   "execution_count": 6,
   "metadata": {
    "collapsed": true
   },
   "outputs": [],
   "source": [
    "np.save('extracted_weights.npy', extracted_weights)"
   ]
  }
 ],
 "metadata": {
  "kernelspec": {
   "display_name": "Python 3",
   "language": "python",
   "name": "python3"
  },
  "language_info": {
   "codemirror_mode": {
    "name": "ipython",
    "version": 3
   },
   "file_extension": ".py",
   "mimetype": "text/x-python",
   "name": "python",
   "nbconvert_exporter": "python",
   "pygments_lexer": "ipython3",
   "version": "3.6.0"
  }
 },
 "nbformat": 4,
 "nbformat_minor": 2
}
